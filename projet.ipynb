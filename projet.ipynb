{
 "cells": [
  {
   "cell_type": "markdown",
   "metadata": {},
   "source": [
    "# Projet de MOGPL M1 Informatique\n",
    "\n",
    "### Binome :\n",
    "M1 DAC Yuan Liu 21214576\n",
    "\n",
    "M1 DAC Herve Nguyen 28625990\n"
   ]
  },
  {
   "cell_type": "markdown",
   "metadata": {},
   "source": [
    "# Documentation de la classe DictionnaireAdjacenceOrientePondere\n",
    "\n",
    "La classe `DictionnaireAdjacenceOrientePondere` représente un graphe orienté pondéré utilisant une structure de dictionnaire pour stocker les informations sur les sommets et les arcs.\n",
    "\n",
    "## Méthodes publiques\n",
    "\n",
    "### `__init__(self)`\n",
    "\n",
    "Initialise un graphe sans arcs.\n",
    "\n",
    "### `ajouter_arc(self, u, v, poids)`\n",
    "\n",
    "Ajoute un arc du sommet `u` vers le sommet `v`, en créant les sommets manquants le cas échéant. Le poids de l'arc est spécifié par le paramètre `poids`.\n",
    "\n",
    "### `ajouter_arcs(self, iterable)`\n",
    "\n",
    "Ajoute tous les arcs de l'itérable donné au graphe. L'itérable doit contenir des triplets (u, v, poids).\n",
    "\n",
    "### `ajouter_arc_bidirectionnel(self, u, v, poids)`\n",
    "\n",
    "Ajoute un arc bidirectionnel du sommet `u` vers le sommet `v` et vice-versa, en créant les sommets manquants le cas échéant. Le poids de l'arc est spécifié par le paramètre `poids`.\n",
    "\n",
    "### `ajouter_arcs_bidirectionnels(self, iterable)`\n",
    "\n",
    "Ajoute tous les arcs bidirectionnels de l'itérable donné au graphe. L'itérable doit contenir des triplets (u, v, poids). Cette méthode utilise `ajouter_arc_bidirectionnel` pour ajouter les arcs dans les deux directions.\n",
    "\n",
    "### `ajouter_sommet(self, sommet)`\n",
    "\n",
    "Ajoute un sommet au graphe. Le sommet peut être de n'importe quel type hashable.\n",
    "\n",
    "### `ajouter_sommets(self, iterable)`\n",
    "\n",
    "Ajoute tous les sommets de l'itérable donné au graphe. L'itérable doit contenir des éléments hashables.\n",
    "\n",
    "### `arcs(self)`\n",
    "\n",
    "Renvoie l'ensemble des arcs du graphe sous forme de triplets (u, v, poids).\n",
    "\n",
    "### `boucles(self)`\n",
    "\n",
    "Renvoie les boucles du graphe, c'est-à-dire les arcs reliant un sommet à lui-même.\n",
    "\n",
    "### `contient_arc(self, u, v)`\n",
    "\n",
    "Renvoie `True` si l'arc (u, v) existe, `False` sinon.\n",
    "\n",
    "### `contient_sommet(self, u)`\n",
    "\n",
    "Renvoie `True` si le sommet `u` existe, `False` sinon.\n",
    "\n",
    "### `copy(self)`\n",
    "\n",
    "Renvoie une copie du graphe.\n",
    "\n",
    "\n",
    "### `degre(self, sommet)`\n",
    "\n",
    "Renvoie le nombre de voisins du sommet. Provoque une erreur si le sommet n'existe pas.\n",
    "\n",
    "### `degre_entrant(self, sommet)`\n",
    "\n",
    "Renvoie le nombre de prédécesseurs du sommet. Provoque une erreur si le sommet n'existe pas.\n",
    "\n",
    "### `degre_sortant(self, sommet)`\n",
    "\n",
    "Renvoie le nombre de successeurs du sommet. Provoque une erreur si le sommet n'existe pas.\n",
    "\n",
    "### `nombre_arcs(self)`\n",
    "\n",
    "Renvoie le nombre d'arcs du graphe.\n",
    "\n",
    "### `nombre_boucles(self)`\n",
    "\n",
    "Renvoie le nombre d'arcs de la forme {u, u}.\n",
    "\n",
    "### `nombre_sommets(self)`\n",
    "\n",
    "Renvoie le nombre de sommets du graphe.\n",
    "\n",
    "### `poids_arc(self, u, v)`\n",
    "\n",
    "Renvoie le poids de l'arc entre u et v, `None` s'il n'existe pas.\n",
    "\n",
    "### `predecesseurs(self, sommet)`\n",
    "\n",
    "Renvoie les prédécesseurs du sommet. Provoque une erreur si le sommet n'existe pas.\n",
    "\n",
    "### `retirer_arc(self, u, v)`\n",
    "\n",
    "Retire l'arc (u, v) s'il existe. Provoque une erreur sinon.\n",
    "\n",
    "### `retirer_arcs(self, iterable)`\n",
    "\n",
    "Retire tous les arcs de l'itérable donné du graphe. L'itérable doit contenir des couples d'éléments.\n",
    "\n",
    "### `retirer_sommet(self, sommet)`\n",
    "\n",
    "Efface le sommet du graphe et retire tous les arcs qui lui sont incidents.\n",
    "\n",
    "### `retirer_sommets(self, iterable)`\n",
    "\n",
    "Efface les sommets de l'itérable donné du graphe et retire toutes les arêtes incidentes à ces sommets.\n",
    "\n",
    "### `sommets(self)`\n",
    "\n",
    "Renvoie l'ensemble des sommets du graphe.\n",
    "\n",
    "### `sous_graphe_induit(self, iterable)`\n",
    "\n",
    "Renvoie le sous-graphe induit par l'itérable de sommets donné.\n",
    "\n",
    "### `successeurs(self, sommet)`\n",
    "\n",
    "Renvoie les successeurs du sommet. Provoque une erreur si le sommet n'existe pas.\n",
    "\n",
    "### `voisins(self, sommet)`\n",
    "\n",
    "Renvoie l'ensemble des voisins du sommet donné.\n",
    "\n",
    "### `__str__(self)`\n",
    "\n",
    "Renvoie une représentation sous forme de chaîne de caractères du graphe.\n",
    "\n",
    "### `__repr__(self)`\n",
    "\n",
    "Renvoie une représentation sous forme de chaîne de caractères du graphe (utilise la méthode `__str__`).\n",
    "\n",
    "## Utilisation\n",
    "\n",
    "La classe peut être utilisée pour représenter et manipuler des graphes orientés pondérés. Les méthodes permettent d'ajouter et de retirer des sommets, des arcs, de calculer des propriétés du graphe, et d'effectuer diverses opérations graphiques.\n",
    "\n",
    "## Exemple d'utilisation\n",
    "\n",
    "```python\n",
    "# Création d'un graphe\n",
    "graphe = DictionnaireAdjacenceOrientePondere()\n",
    "\n",
    "# Ajout de sommets et d'arcs\n",
    "graphe.ajouter_sommets([1, 2, 3])\n",
    "graphe.ajouter_arcs([(1, 2, 5), (2, 3, 3), (3, 1, 2)])\n",
    "\n",
    "# Affichage du graphe\n",
    "print(graphe)\n"
   ]
  },
  {
   "cell_type": "code",
   "execution_count": 1,
   "metadata": {},
   "outputs": [],
   "source": [
    "from random import *\n",
    "from dictionnaireadjacenceorientepondere import DictionnaireAdjacenceOrientePondere"
   ]
  },
  {
   "cell_type": "code",
   "execution_count": 2,
   "metadata": {
    "scrolled": true
   },
   "outputs": [
    {
     "name": "stdout",
     "output_type": "stream",
     "text": [
      "Graphe orienté avec 3 sommets : [0, 1, 2]\n",
      "0 -[3]-> 0\n",
      "0 -[-1]-> 1\n",
      "1 -[10]-> 2\n",
      "--------------------\n",
      "les sommets de G sont {0, 1, 2}\n",
      "les successeurs de 0 dans G sont {0, 1}\n",
      "le poids de l'arc 0->1 est -1\n",
      "3\n"
     ]
    }
   ],
   "source": [
    "G = DictionnaireAdjacenceOrientePondere()\n",
    "G.ajouter_sommets([0,1,2])\n",
    "G.ajouter_arcs([(0,1,-1)])\n",
    "G.ajouter_arcs([(0,0,3)])\n",
    "G.ajouter_arcs([(1,2,10)])\n",
    "\n",
    "print(G)\n",
    "print('-'*20)\n",
    "print('les sommets de G sont', G.sommets())\n",
    "print(\"les successeurs de 0 dans G sont\", G.successeurs(0))\n",
    "print(\"le poids de l'arc 0->1 est\", G.poids_arc(0,1))\n",
    "print(len(G.sommets()))"
   ]
  },
  {
   "cell_type": "code",
   "execution_count": 3,
   "metadata": {},
   "outputs": [
    {
     "data": {
      "text/plain": [
       "[inf]"
      ]
     },
     "execution_count": 3,
     "metadata": {},
     "output_type": "execute_result"
    }
   ],
   "source": [
    "[float('inf')]"
   ]
  },
  {
   "cell_type": "code",
   "execution_count": 4,
   "metadata": {},
   "outputs": [],
   "source": [
    "Graphe = DictionnaireAdjacenceOrientePondere()\n",
    "Graphe.ajouter_sommets([0,1,2,3,4,5,6,7])\n",
    "Graphe.ajouter_arcs_bidirectionel([(0,1,4), (0,2,1), (2,3,1), (2,4,2), (3,4,3), (3,5,1), (3,7,3), (5,7,1), (6,7,3), (1,5,1)])"
   ]
  },
  {
   "cell_type": "code",
   "execution_count": 5,
   "metadata": {},
   "outputs": [],
   "source": [
    "# Question 1\n",
    "\n",
    "def bellmanford(G, source):\n",
    "    distance = dict()\n",
    "    for sommet in G.sommets():\n",
    "        distance[sommet] = float('inf')\n",
    "\n",
    "    parent = dict()\n",
    "    for sommet in G.sommets():\n",
    "        parent[sommet] = None\n",
    "\n",
    "    distance[source] = 0\n",
    "    \n",
    "    for i in range(len(G.sommets())):\n",
    "        old = distance.copy()\n",
    "        for (u, v, p) in G.arcs():\n",
    "            if distance[v] > distance[u] + p:\n",
    "                parent[v] = u\n",
    "                distance[v] = distance[u] + p\n",
    "        if old == distance:\n",
    "            iterations = i + 1\n",
    "            break\n",
    "    return distance, parent, iterations\n",
    "\n",
    "def obtenirChemin(source, destination, parent):\n",
    "    current = destination\n",
    "    res = [current]\n",
    "    while current != source:\n",
    "        res.append(parent[current])\n",
    "        current = parent[current]\n",
    "    res.reverse()\n",
    "    return res"
   ]
  },
  {
   "cell_type": "code",
   "execution_count": 6,
   "metadata": {},
   "outputs": [
    {
     "name": "stdout",
     "output_type": "stream",
     "text": [
      "({0: 0, 1: 4, 2: 1, 3: 2, 4: 3, 5: 3, 6: 7, 7: 4}, {0: None, 1: 0, 2: 0, 3: 2, 4: 2, 5: 3, 6: 7, 7: 5}, 4)\n",
      "[0, 2, 3, 5, 7]\n"
     ]
    }
   ],
   "source": [
    "distance, parent, iterations = bellmanford(Graphe, 0)\n",
    "print((distance, parent, iterations))\n",
    "print(obtenirChemin(0, 7, parent))"
   ]
  },
  {
   "cell_type": "code",
   "execution_count": 7,
   "metadata": {},
   "outputs": [
    {
     "name": "stdout",
     "output_type": "stream",
     "text": [
      "{0, 1, 2}\n",
      "0\n",
      "1\n",
      "2\n"
     ]
    }
   ],
   "source": [
    "print(G.sommets())\n",
    "for sommet in G.sommets():\n",
    "    print(sommet)"
   ]
  },
  {
   "cell_type": "code",
   "execution_count": 8,
   "metadata": {},
   "outputs": [],
   "source": [
    "# Question 2\n",
    "\n",
    "def sources(G):\n",
    "    res = []\n",
    "    for sommet in G.sommets():\n",
    "        if G.degre_entrant(sommet) == 0:\n",
    "            res.append(sommet)\n",
    "    return res\n",
    "\n",
    "def puits(G):\n",
    "    res = []\n",
    "    for sommet in G.sommets():\n",
    "        if G.degre_sortant(sommet) == 0:\n",
    "            res.append(sommet)\n",
    "    return res\n",
    "\n",
    "def GloutonFas(G):\n",
    "    s1, s2 = [], []\n",
    "    while(G.nombre_sommets() > 0):\n",
    "        liste_source = sources(G)\n",
    "        while(liste_source):\n",
    "            u = liste_source[0]\n",
    "            s1.append(u)\n",
    "            G.retirer_sommet(u)\n",
    "            liste_source = sources(G)\n",
    "        \n",
    "        liste_puits = puits(G)\n",
    "        \n",
    "        while(liste_puits):\n",
    "            u = liste_puits[0]\n",
    "            s2.insert(0, u)\n",
    "            G.retirer_sommet(u)\n",
    "            liste_puits = puits(G)\n",
    "        \n",
    "\n",
    "        maximum = -float('inf')\n",
    "        u = None\n",
    "        for sommet in G.sommets():\n",
    "            if G.degre_sortant(sommet) - G.degre_entrant(sommet) > maximum:\n",
    "                maximum = G.degre_sortant(sommet) - G.degre_entrant(sommet)\n",
    "                u = sommet\n",
    "        if (u != None):      \n",
    "            s1.append(u)\n",
    "            G.retirer_sommet(u)\n",
    "    \n",
    "    return s1 + s2"
   ]
  },
  {
   "cell_type": "code",
   "execution_count": 9,
   "metadata": {},
   "outputs": [
    {
     "name": "stdout",
     "output_type": "stream",
     "text": [
      "[4, 6, 5, 7, 8, 1, 2, 3]\n"
     ]
    }
   ],
   "source": [
    "Graphe = DictionnaireAdjacenceOrientePondere()\n",
    "Graphe.ajouter_sommets([1,2,3,4,5,6,7,8])\n",
    "Graphe.ajouter_arcs([(1,2,0),(1,3,0),(2,3,0),(3,4,0),(4,5,0),(4,6,0),(4,7,0)])\n",
    "Graphe.ajouter_arcs([(5,7,0),(6,5,0),(6,8,0),(7,1,0),(8,2,0),(8,3,0)])\n",
    "\n",
    "ordre = GloutonFas(Graphe)\n",
    "\n",
    "print(ordre)"
   ]
  },
  {
   "cell_type": "markdown",
   "metadata": {},
   "source": [
    "### 4, 6, 5, 8, 7, 1, 2, 3"
   ]
  },
  {
   "cell_type": "code",
   "execution_count": 10,
   "metadata": {},
   "outputs": [],
   "source": [
    "def random_poids(arcs, low, high):\n",
    "    new = []\n",
    "    for k in range(len(arcs)):\n",
    "        (u,v,p) = arcs[k]\n",
    "        p = randint(low,high)\n",
    "        new.append((u,v,p))\n",
    "    return new"
   ]
  },
  {
   "cell_type": "code",
   "execution_count": 11,
   "metadata": {},
   "outputs": [],
   "source": [
    "# Question 3\n",
    "\n",
    "\n",
    "arcs = [(1,2,0),(1,3,0),(2,3,0),(3,4,0),(4,5,0),(4,6,0),(4,7,0),(5,7,0),(6,5,0),(6,8,0),(7,1,0),(8,2,0),(8,3,0)]\n",
    "\n",
    "G1 = DictionnaireAdjacenceOrientePondere()\n",
    "G2 = DictionnaireAdjacenceOrientePondere()\n",
    "G3 = DictionnaireAdjacenceOrientePondere()\n",
    "H  = DictionnaireAdjacenceOrientePondere()\n",
    "\n",
    "G1.ajouter_sommets([1,2,3,4,5,6,7,8,9,10,11,12])\n",
    "G2.ajouter_sommets([1,2,3,4,5,6,7,8,9,10,11,12])\n",
    "G3.ajouter_sommets([1,2,3,4,5,6,7,8,9,10,11,12])\n",
    "H.ajouter_sommets([1,2,3,4,5,6,7,8,9,10,11,12])\n",
    "\n",
    "G1.ajouter_arcs([(1,2,7),(1,3,2),(2,3,8),(3,4,6),(4,5,-2),(4,6,-7),(4,7,1),(5,7,5),(6,5,2),(6,8,5),(7,1,-3),(8,2,10)])\n",
    "G1.ajouter_arcs([(8,3,5),(2,10,6),(5,12,-2),(6,9,-5),(6,11,-4),(8,10,3),(8,11,9),(10,9,-2),(10,11,-3),(11,12,6)])\n",
    "\n",
    "\n",
    "G2.ajouter_arcs([(1,2,7),(1,3,5),(2,3,-1),(3,4,3),(4,5,-3),(4,6,8),(4,7,-2),(5,7,4),(6,5,2),(6,8,3),(7,1,2),(8,2,-2),(8,3,2)])\n",
    "G2.ajouter_arcs([(8,3,2),(2,10,2),(5,12,5),(6,9,7),(6,11,10),(8,10,-3),(8,11,-7),(10,9,-1),(10,11,6),(11,12,9)])\n",
    "\n",
    "G3.ajouter_arcs([(1,2,-4),(1,3,2),(2,3,8),(3,4,9),(4,5,3),(4,6,1),(4,7,-5),(5,7,-1),(6,5,-6),(6,8,4),(7,1,6),(8,2,7),(8,3,-3)])\n",
    "G3.ajouter_arcs([(8,3,-3),(2,10,-5),(5,12,1),(6,9,-3),(6,11,7),(8,10,2),(8,11,4),(10,9,4),(10,11,-1),(11,12,8)])\n",
    "\n",
    "H.ajouter_arcs([(1,2,8),(1,3,-2),(2,3,5),(3,4,3),(4,5,-2),(4,6,-5),(4,7,2),(5,7,1),(6,5,8),(6,8,7),(7,1,5),(8,2,-6),(8,3,-4)])\n",
    "H.ajouter_arcs([(8,3,-4),(2,10,3),(5,12,9),(6,9,5),(6,11,5),(8,10,-7),(8,11,-8),(10,9,6),(10,11,-4),(11,12,1)])"
   ]
  },
  {
   "cell_type": "code",
   "execution_count": 12,
   "metadata": {},
   "outputs": [],
   "source": [
    "def obtenirPlusCourtChemins(source, parent, sommets):\n",
    "    chemins = []\n",
    "    for destination in sommets:\n",
    "        if destination != source:\n",
    "            chemins.append(obtenirChemin(source, destination, parent))\n",
    "    return chemins\n",
    "\n",
    "def cheminsToGraphe(T, sommets):\n",
    "    G = DictionnaireAdjacenceOrientePondere()\n",
    "    G.ajouter_sommets(sommets)\n",
    "    for chemin in T:\n",
    "        for i in range(len(chemin) - 1):\n",
    "            G.ajouter_arc(chemin[i], chemin[i+1], 0)\n",
    "    return G"
   ]
  },
  {
   "cell_type": "code",
   "execution_count": 13,
   "metadata": {},
   "outputs": [
    {
     "name": "stdout",
     "output_type": "stream",
     "text": [
      "Graphe orienté avec 12 sommets : [1, 2, 3, 4, 5, 6, 7, 8, 9, 10, 11, 12]\n",
      "1 -[0]-> 2\n",
      "1 -[0]-> 3\n",
      "2 -[0]-> 10\n",
      "3 -[0]-> 4\n",
      "4 -[0]-> 7\n",
      "4 -[0]-> 5\n",
      "4 -[0]-> 6\n",
      "5 -[0]-> 12\n",
      "5 -[0]-> 7\n",
      "6 -[0]-> 9\n",
      "6 -[0]-> 5\n",
      "6 -[0]-> 8\n",
      "6 -[0]-> 11\n",
      "8 -[0]-> 10\n",
      "8 -[0]-> 11\n",
      "10 -[0]-> 9\n",
      "10 -[0]-> 11\n",
      "11 -[0]-> 12\n"
     ]
    }
   ],
   "source": [
    "# Question 4\n",
    "\n",
    "_, p1, _ = bellmanford(G1,1)\n",
    "_, p2, _ = bellmanford(G2,1)\n",
    "_, p3, _ = bellmanford(G3,1)\n",
    "_, ph, _ = bellmanford(H,1)\n",
    "\n",
    "T = obtenirPlusCourtChemins(1, p1, G1.sommets()) + obtenirPlusCourtChemins(1, p2, G2.sommets()) + obtenirPlusCourtChemins(1, p3, G3.sommets())\n",
    "T = cheminsToGraphe(T, G1.sommets())\n",
    "print(T)"
   ]
  },
  {
   "cell_type": "code",
   "execution_count": 14,
   "metadata": {},
   "outputs": [],
   "source": [
    "# Question 5\n",
    "\n",
    "ordre = GloutonFas(T)"
   ]
  },
  {
   "cell_type": "code",
   "execution_count": 15,
   "metadata": {},
   "outputs": [
    {
     "data": {
      "text/plain": [
       "({1: 0,\n",
       "  2: -3,\n",
       "  3: -2,\n",
       "  4: 1,\n",
       "  5: -1,\n",
       "  6: -4,\n",
       "  7: 0,\n",
       "  8: 3,\n",
       "  9: 1,\n",
       "  10: -4,\n",
       "  11: -8,\n",
       "  12: -7},\n",
       " {1: None,\n",
       "  2: 8,\n",
       "  3: 1,\n",
       "  4: 3,\n",
       "  5: 4,\n",
       "  6: 4,\n",
       "  7: 5,\n",
       "  8: 6,\n",
       "  9: 6,\n",
       "  10: 8,\n",
       "  11: 10,\n",
       "  12: 11},\n",
       " 7)"
      ]
     },
     "execution_count": 15,
     "metadata": {},
     "output_type": "execute_result"
    }
   ],
   "source": [
    "bellmanford(H,1)"
   ]
  },
  {
   "cell_type": "code",
   "execution_count": 25,
   "metadata": {},
   "outputs": [
    {
     "data": {
      "text/plain": [
       "({1: 0,\n",
       "  2: -3,\n",
       "  3: -2,\n",
       "  4: 1,\n",
       "  5: -1,\n",
       "  6: -4,\n",
       "  7: 0,\n",
       "  8: 3,\n",
       "  9: 1,\n",
       "  10: -4,\n",
       "  11: -8,\n",
       "  12: -7},\n",
       " {1: None,\n",
       "  2: 8,\n",
       "  3: 1,\n",
       "  4: 3,\n",
       "  5: 4,\n",
       "  6: 4,\n",
       "  7: 5,\n",
       "  8: 6,\n",
       "  9: 6,\n",
       "  10: 8,\n",
       "  11: 10,\n",
       "  12: 11},\n",
       " 2)"
      ]
     },
     "execution_count": 25,
     "metadata": {},
     "output_type": "execute_result"
    }
   ],
   "source": [
    "# Question 6\n",
    "\n",
    "def bellmanford_ordre(G, source, ordre):\n",
    "    distance = dict()\n",
    "    for sommet in G.sommets():\n",
    "        distance[sommet] = float('inf')\n",
    "    \n",
    "    parent = dict()\n",
    "    for sommet in G.sommets():\n",
    "        parent[sommet] = None\n",
    "\n",
    "    distance[source] = 0\n",
    "    \n",
    "    for i in range(len(G.sommets())):\n",
    "        old = distance.copy()\n",
    "        for u in ordre:\n",
    "            for v in (G.successeurs(u)):\n",
    "                p = G.poids_arc(u, v)\n",
    "                if distance[v] > distance[u] + p:\n",
    "                    parent[v] = u\n",
    "                    distance[v] = distance[u] + p\n",
    "        if old == distance:\n",
    "            iterations = i + 1\n",
    "            break\n",
    "    return distance, parent, iterations\n",
    "\n",
    "bellmanford_ordre(H, 1, ordre)"
   ]
  },
  {
   "cell_type": "code",
   "execution_count": 17,
   "metadata": {},
   "outputs": [
    {
     "data": {
      "text/plain": [
       "[1, 2, 3, 4, 5, 6, 7, 8, 9, 10, 11, 12]"
      ]
     },
     "execution_count": 17,
     "metadata": {},
     "output_type": "execute_result"
    }
   ],
   "source": [
    "list(H.sommets())"
   ]
  },
  {
   "cell_type": "code",
   "execution_count": 18,
   "metadata": {},
   "outputs": [
    {
     "data": {
      "text/plain": [
       "({1: 0,\n",
       "  2: -3,\n",
       "  3: -2,\n",
       "  4: 1,\n",
       "  5: -1,\n",
       "  6: -4,\n",
       "  7: 0,\n",
       "  8: 3,\n",
       "  9: 1,\n",
       "  10: -4,\n",
       "  11: -8,\n",
       "  12: -7},\n",
       " {1: None,\n",
       "  2: 8,\n",
       "  3: 1,\n",
       "  4: 3,\n",
       "  5: 4,\n",
       "  6: 4,\n",
       "  7: 5,\n",
       "  8: 6,\n",
       "  9: 6,\n",
       "  10: 8,\n",
       "  11: 10,\n",
       "  12: 11},\n",
       " 5)"
      ]
     },
     "execution_count": 18,
     "metadata": {},
     "output_type": "execute_result"
    }
   ],
   "source": [
    "# Question 7\n",
    "\n",
    "random_ordre = list(H.sommets()).copy()\n",
    "shuffle(random_ordre)\n",
    "bellmanford_ordre(H, 1, random_ordre)"
   ]
  },
  {
   "cell_type": "code",
   "execution_count": null,
   "metadata": {},
   "outputs": [],
   "source": [
    "# Question 8\n",
    "\n",
    "# En general l'ordre aléatoire prends plus d'iterations"
   ]
  },
  {
   "cell_type": "code",
   "execution_count": 23,
   "metadata": {},
   "outputs": [],
   "source": [
    "# Question 9\n",
    "\n",
    "def comparaisonOrdre(G, source, ordre, n=10000):\n",
    "    better = 0\n",
    "    eq = 0\n",
    "    worse = 0\n",
    "    total = 0\n",
    "    \n",
    "    _,_,ordre_iter = bellmanford_ordre(H, source, ordre)\n",
    "    \n",
    "    for k in range(n):\n",
    "        random_ordre = list(H.sommets()).copy()\n",
    "        shuffle(random_ordre)\n",
    "        _,_,random_iter = bellmanford_ordre(H, 1, random_ordre)\n",
    "        \n",
    "        if (random_iter > ordre_iter):\n",
    "            worse += 1\n",
    "        if (random_iter == ordre_iter):\n",
    "            eq += 1\n",
    "        if (random_iter < ordre_iter):\n",
    "            better += 1\n",
    "        total += random_iter\n",
    "    avg = total / n\n",
    "    return avg, worse, eq, better"
   ]
  },
  {
   "cell_type": "code",
   "execution_count": 24,
   "metadata": {},
   "outputs": [
    {
     "data": {
      "text/plain": [
       "(5.0091, 9999, 1, 0)"
      ]
     },
     "execution_count": 24,
     "metadata": {},
     "output_type": "execute_result"
    }
   ],
   "source": [
    "comparaisonOrdre(H, 1, ordre, n=10000)"
   ]
  },
  {
   "cell_type": "code",
   "execution_count": null,
   "metadata": {},
   "outputs": [],
   "source": []
  }
 ],
 "metadata": {
  "kernelspec": {
   "display_name": "Python 3 (ipykernel)",
   "language": "python",
   "name": "python3"
  },
  "language_info": {
   "codemirror_mode": {
    "name": "ipython",
    "version": 3
   },
   "file_extension": ".py",
   "mimetype": "text/x-python",
   "name": "python",
   "nbconvert_exporter": "python",
   "pygments_lexer": "ipython3",
   "version": "3.10.13"
  }
 },
 "nbformat": 4,
 "nbformat_minor": 4
}
