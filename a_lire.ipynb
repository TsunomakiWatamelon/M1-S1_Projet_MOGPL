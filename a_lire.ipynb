{
 "cells": [
  {
   "cell_type": "markdown",
   "metadata": {},
   "source": [
    "# Indications pour préparer le TP noté d''algorithmique des graphes\n",
    "\n",
    "## Le jour du TP noté\n",
    "\n",
    "Vous serez sur un ordinateur en *mode examen*, sans accès internet, et avec uniquement les documents suivants de disponibles :\n",
    "- les transparents de cours en format pdf\n",
    "- les deux fichiers `dictionnaireadjacenceoriente.py` et `dictionnaireadjacenceorientepondere.py`\n",
    "- le sujet du TP noté sous forme de Notebook Python (extension `.ipynb`)\n",
    "\n",
    "Aucun autre document ou support n'est autorisé.\n",
    "\n",
    "## Attendu\n",
    "\n",
    "On vous demandera d'implanter en Python des algorithmes du cours ou des variantes simples, dans le notebook du sujet, et en utilisant les classes fournies `DictionnaireAdjacenceOriente` et `DictionnaireAdjacenceOrientePondere`. Vos implantations devront respecter l'algorithme demandé, notamment en ce qui concerne leur complexité.\n",
    "\n",
    "<font color=red>**Attention :**</font> vous ne devez pas modifier les fichiers `dictionnaireadjacenceoriente.py` et `dictionnaireadjacenceorientepondere.py`, ils seront ré-initialisés lors de la correction, tout changement que vous y auriez apportés seront détruits. \n",
    "\n",
    "## Comment me préparer ?\n",
    "\n",
    "Implantez les algorithmes du cours avec ces classes, dans un notebook python (celui-là par exemple) et vous serez prêts."
   ]
  },
  {
   "cell_type": "markdown",
   "metadata": {},
   "source": [
    "# Utilisation des classes fournies\n",
    "\n",
    "<font color=red>**Attention :**</font> ne vous contentez pas des petits exemples ci-dessous, ouvrez les fichiers `dictionnaireadjacenceoriente.py` et `dictionnaireadjacenceorientepondere.py` dans un éditeur et regardez le code (et les commentaires).\n",
    "\n",
    "Les objets de la classe DictionnaireAdjacenceOriente représentent des graphes orientés. La représentation interne reprend l'idée de la représentations de listes d'adjacence, mais en utilisant un dictionnaire dont les clés sont les sommets `x` et les valeurs l'ensembles des successeurs de `x`, sous forme d'un `set` de Python. Cela permet d'avoir n'importe quel type d'étiquette (non mutable) pour désigner un sommet.\n",
    "\n",
    "L'exemple ci-dessous construit le graphe de l'exercice 1 de la feuille de TD numero 2, affiche les sommets et les successeurs de `'A'`"
   ]
  },
  {
   "cell_type": "markdown",
   "metadata": {},
   "source": [
    "Pour les graphes orientés pondérés, on utilise la classe `DictionnaireAdjacenceOrientePondere` qui est juste une variante de `DictionnaireAdjacenceOriente` où on a ajouté de poids : maintenant les arcs sont représenté par un dictionnaire qui à une clé `x` associe un ensemble de couples `(y,p)`, pour chaque arc `x->y` de poids `p`."
   ]
  },
  {
   "cell_type": "markdown",
   "metadata": {},
   "source": [
    "# Documentation de la classe DictionnaireAdjacenceOrientePondere\n",
    "\n",
    "La classe `DictionnaireAdjacenceOrientePondere` représente un graphe orienté pondéré utilisant une structure de dictionnaire pour stocker les informations sur les sommets et les arcs.\n",
    "\n",
    "## Méthodes publiques\n",
    "\n",
    "### `__init__(self)`\n",
    "\n",
    "Initialise un graphe sans arcs.\n",
    "\n",
    "### `ajouter_arc(self, u, v, poids)`\n",
    "\n",
    "Ajoute un arc du sommet `u` vers le sommet `v`, en créant les sommets manquants le cas échéant. Le poids de l'arc est spécifié par le paramètre `poids`.\n",
    "\n",
    "### `ajouter_arcs(self, iterable)`\n",
    "\n",
    "Ajoute tous les arcs de l'itérable donné au graphe. L'itérable doit contenir des triplets (u, v, poids).\n",
    "\n",
    "### `ajouter_arc_bidirectionnel(self, u, v, poids)`\n",
    "\n",
    "Ajoute un arc bidirectionnel du sommet `u` vers le sommet `v` et vice-versa, en créant les sommets manquants le cas échéant. Le poids de l'arc est spécifié par le paramètre `poids`.\n",
    "\n",
    "### `ajouter_arcs_bidirectionnels(self, iterable)`\n",
    "\n",
    "Ajoute tous les arcs bidirectionnels de l'itérable donné au graphe. L'itérable doit contenir des triplets (u, v, poids). Cette méthode utilise `ajouter_arc_bidirectionnel` pour ajouter les arcs dans les deux directions.\n",
    "\n",
    "### `ajouter_sommet(self, sommet)`\n",
    "\n",
    "Ajoute un sommet au graphe. Le sommet peut être de n'importe quel type hashable.\n",
    "\n",
    "### `ajouter_sommets(self, iterable)`\n",
    "\n",
    "Ajoute tous les sommets de l'itérable donné au graphe. L'itérable doit contenir des éléments hashables.\n",
    "\n",
    "### `arcs(self)`\n",
    "\n",
    "Renvoie l'ensemble des arcs du graphe sous forme de triplets (u, v, poids).\n",
    "\n",
    "### `boucles(self)`\n",
    "\n",
    "Renvoie les boucles du graphe, c'est-à-dire les arcs reliant un sommet à lui-même.\n",
    "\n",
    "### `contient_arc(self, u, v)`\n",
    "\n",
    "Renvoie `True` si l'arc (u, v) existe, `False` sinon.\n",
    "\n",
    "### `contient_sommet(self, u)`\n",
    "\n",
    "Renvoie `True` si le sommet `u` existe, `False` sinon.\n",
    "\n",
    "### `degre(self, sommet)`\n",
    "\n",
    "Renvoie le nombre de voisins du sommet. Provoque une erreur si le sommet n'existe pas.\n",
    "\n",
    "### `degre_entrant(self, sommet)`\n",
    "\n",
    "Renvoie le nombre de prédécesseurs du sommet. Provoque une erreur si le sommet n'existe pas.\n",
    "\n",
    "### `degre_sortant(self, sommet)`\n",
    "\n",
    "Renvoie le nombre de successeurs du sommet. Provoque une erreur si le sommet n'existe pas.\n",
    "\n",
    "### `nombre_arcs(self)`\n",
    "\n",
    "Renvoie le nombre d'arcs du graphe.\n",
    "\n",
    "### `nombre_boucles(self)`\n",
    "\n",
    "Renvoie le nombre d'arcs de la forme {u, u}.\n",
    "\n",
    "### `nombre_sommets(self)`\n",
    "\n",
    "Renvoie le nombre de sommets du graphe.\n",
    "\n",
    "### `poids_arc(self, u, v)`\n",
    "\n",
    "Renvoie le poids de l'arc entre u et v, `None` s'il n'existe pas.\n",
    "\n",
    "### `predecesseurs(self, sommet)`\n",
    "\n",
    "Renvoie les prédécesseurs du sommet. Provoque une erreur si le sommet n'existe pas.\n",
    "\n",
    "### `retirer_arc(self, u, v)`\n",
    "\n",
    "Retire l'arc (u, v) s'il existe. Provoque une erreur sinon.\n",
    "\n",
    "### `retirer_arcs(self, iterable)`\n",
    "\n",
    "Retire tous les arcs de l'itérable donné du graphe. L'itérable doit contenir des couples d'éléments.\n",
    "\n",
    "### `retirer_sommet(self, sommet)`\n",
    "\n",
    "Efface le sommet du graphe et retire tous les arcs qui lui sont incidents.\n",
    "\n",
    "### `retirer_sommets(self, iterable)`\n",
    "\n",
    "Efface les sommets de l'itérable donné du graphe et retire toutes les arêtes incidentes à ces sommets.\n",
    "\n",
    "### `sommets(self)`\n",
    "\n",
    "Renvoie l'ensemble des sommets du graphe.\n",
    "\n",
    "### `sous_graphe_induit(self, iterable)`\n",
    "\n",
    "Renvoie le sous-graphe induit par l'itérable de sommets donné.\n",
    "\n",
    "### `successeurs(self, sommet)`\n",
    "\n",
    "Renvoie les successeurs du sommet. Provoque une erreur si le sommet n'existe pas.\n",
    "\n",
    "### `voisins(self, sommet)`\n",
    "\n",
    "Renvoie l'ensemble des voisins du sommet donné.\n",
    "\n",
    "### `__str__(self)`\n",
    "\n",
    "Renvoie une représentation sous forme de chaîne de caractères du graphe.\n",
    "\n",
    "### `__repr__(self)`\n",
    "\n",
    "Renvoie une représentation sous forme de chaîne de caractères du graphe (utilise la méthode `__str__`).\n",
    "\n",
    "## Utilisation\n",
    "\n",
    "La classe peut être utilisée pour représenter et manipuler des graphes orientés pondérés. Les méthodes permettent d'ajouter et de retirer des sommets, des arcs, de calculer des propriétés du graphe, et d'effectuer diverses opérations graphiques.\n",
    "\n",
    "## Exemple d'utilisation\n",
    "\n",
    "```python\n",
    "# Création d'un graphe\n",
    "graphe = DictionnaireAdjacenceOrientePondere()\n",
    "\n",
    "# Ajout de sommets et d'arcs\n",
    "graphe.ajouter_sommets([1, 2, 3])\n",
    "graphe.ajouter_arcs([(1, 2, 5), (2, 3, 3), (3, 1, 2)])\n",
    "\n",
    "# Affichage du graphe\n",
    "print(graphe)\n"
   ]
  },
  {
   "cell_type": "code",
   "execution_count": 1,
   "metadata": {
    "scrolled": true
   },
   "outputs": [
    {
     "name": "stdout",
     "output_type": "stream",
     "text": [
      "Graphe orienté avec 3 sommets : [0, 1, 2]\n",
      "0 -[3]-> 0\n",
      "0 -[-1]-> 1\n",
      "1 -[10]-> 2\n",
      "--------------------\n",
      "les sommets de G sont {0, 1, 2}\n",
      "les successeurs de 0 dans G sont {0, 1}\n",
      "le poids de l'arc 0->1 est -1\n",
      "3\n"
     ]
    }
   ],
   "source": [
    "from dictionnaireadjacenceorientepondere import DictionnaireAdjacenceOrientePondere\n",
    "G = DictionnaireAdjacenceOrientePondere()\n",
    "G.ajouter_sommets([0,1,2])\n",
    "G.ajouter_arcs([(0,1,-1)])\n",
    "G.ajouter_arcs([(0,0,3)])\n",
    "G.ajouter_arcs([(1,2,10)])\n",
    "\n",
    "print(G)\n",
    "print('-'*20)\n",
    "print('les sommets de G sont', G.sommets())\n",
    "print(\"les successeurs de 0 dans G sont\", G.successeurs(0))\n",
    "print(\"le poids de l'arc 0->1 est\", G.poids_arc(0,1))\n",
    "print(len(G.sommets()))"
   ]
  },
  {
   "cell_type": "code",
   "execution_count": 9,
   "metadata": {},
   "outputs": [
    {
     "data": {
      "text/plain": [
       "[inf]"
      ]
     },
     "execution_count": 9,
     "metadata": {},
     "output_type": "execute_result"
    }
   ],
   "source": [
    "[float('inf')]"
   ]
  },
  {
   "cell_type": "code",
   "execution_count": 2,
   "metadata": {},
   "outputs": [],
   "source": [
    "Graphe = DictionnaireAdjacenceOrientePondere()\n",
    "Graphe.ajouter_sommets([0,1,2,3,4,5,6,7])\n",
    "Graphe.ajouter_arcs_bidirectionel([(0,1,4), (0,2,1), (2,3,1), (2,4,2), (3,4,3), (3,5,1), (3,7,3), (5,7,1), (6,7,3), (1,5,1)])"
   ]
  },
  {
   "cell_type": "code",
   "execution_count": 31,
   "metadata": {},
   "outputs": [],
   "source": [
    "# Question 1\n",
    "\n",
    "def bellmanford(G, source, destination):\n",
    "    distance = [float('inf')] * len(G.sommets())\n",
    "    parent = [None] * len(G.sommets())\n",
    "    distance[source] = 0\n",
    "    \n",
    "    for i in range(len(G.sommets())):\n",
    "        old = distance.copy()\n",
    "        for (u, v, p) in G.arcs():\n",
    "            if distance[v] > distance[u] + p:\n",
    "                parent[v] = u\n",
    "                distance[v] = distance[u] + p\n",
    "        if old == distance:\n",
    "            iterations = i - 1\n",
    "            break\n",
    "    return distance, parent, iterations\n",
    "\n",
    "def obtenirChemin(source, destination, parent):\n",
    "    current = destination\n",
    "    res = [current]\n",
    "    while current != source:\n",
    "        res.append(parent[current])\n",
    "        current = parent[current]\n",
    "    res.reverse()\n",
    "    return res"
   ]
  },
  {
   "cell_type": "code",
   "execution_count": 32,
   "metadata": {},
   "outputs": [
    {
     "name": "stdout",
     "output_type": "stream",
     "text": [
      "([0, 4, 1, 2, 3, 3, 7, 4], [None, 0, 0, 2, 2, 3, 7, 5], 2)\n",
      "xdd\n",
      "xdd\n",
      "xdd\n",
      "xdd\n",
      "[0, 2, 3, 5, 7]\n"
     ]
    }
   ],
   "source": [
    "distance, parent, iterations = bellmanford(Graphe, 0, 7)\n",
    "print((distance, parent, iterations))\n",
    "print(obtenirChemin(0, 7, parent))"
   ]
  },
  {
   "cell_type": "code",
   "execution_count": null,
   "metadata": {},
   "outputs": [],
   "source": [
    "# Question 1"
   ]
  }
 ],
 "metadata": {
  "kernelspec": {
   "display_name": "Python 3 (ipykernel)",
   "language": "python",
   "name": "python3"
  },
  "language_info": {
   "codemirror_mode": {
    "name": "ipython",
    "version": 3
   },
   "file_extension": ".py",
   "mimetype": "text/x-python",
   "name": "python",
   "nbconvert_exporter": "python",
   "pygments_lexer": "ipython3",
   "version": "3.10.13"
  }
 },
 "nbformat": 4,
 "nbformat_minor": 4
}
